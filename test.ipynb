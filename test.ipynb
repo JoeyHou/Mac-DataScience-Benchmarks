{
 "cells": [
  {
   "cell_type": "code",
   "execution_count": 1,
   "id": "ff18c63c",
   "metadata": {},
   "outputs": [],
   "source": [
    "import pandas as pd\n",
    "import numpy as np\n",
    "from datetime import datetime\n",
    "import torch"
   ]
  },
  {
   "cell_type": "code",
   "execution_count": 2,
   "id": "b9ca0ed9-253a-40ac-9dcc-f54448469658",
   "metadata": {},
   "outputs": [
    {
     "name": "stdout",
     "output_type": "stream",
     "text": [
      "1.1.5\n",
      "1.19.2\n",
      "1.10.0\n"
     ]
    }
   ],
   "source": [
    "print(pd.__version__)\n",
    "print(np.__version__)\n",
    "print(torch.__version__)"
   ]
  },
  {
   "cell_type": "markdown",
   "id": "5af909ce-2615-461e-a87a-2b66727f4c38",
   "metadata": {},
   "source": [
    "# 0. Pure Python"
   ]
  },
  {
   "cell_type": "code",
   "execution_count": 3,
   "id": "c2974191-de9f-4f76-a1ce-ab01479e0d9d",
   "metadata": {},
   "outputs": [
    {
     "name": "stdout",
     "output_type": "stream",
     "text": [
      "TOTAL RUNTIME = 162 seconds\n"
     ]
    }
   ],
   "source": [
    "import random\n",
    "\n",
    "time_start = datetime.now()\n",
    "\n",
    "l = [random.randrange(100, 999) for i in range(100000000)]\n",
    "squared = [x**2 for x in l]\n",
    "sqrt = [x**0.5 for x in l]\n",
    "mul = [x * y for x, y in zip(squared, sqrt)]\n",
    "div = [x / y for x, y in zip(squared, sqrt)]\n",
    "int_div = [x // y for x, y in zip(squared, sqrt)]\n",
    "\n",
    "time_end = datetime.now()\n",
    "print(f'TOTAL RUNTIME = {(time_end - time_start).seconds} seconds')"
   ]
  },
  {
   "cell_type": "code",
   "execution_count": null,
   "id": "40adf246-2e52-44a6-a81c-c031a3776f58",
   "metadata": {},
   "outputs": [],
   "source": []
  },
  {
   "cell_type": "markdown",
   "id": "5c8c4f00",
   "metadata": {},
   "source": [
    "# 1. Pandas\n",
    "- Required data: wiki text: https://www.kaggle.com/kenshoresearch/kensho-derived-wikimedia-data\n",
    "- Download the `item.csv` file and put it under `data` folder"
   ]
  },
  {
   "cell_type": "markdown",
   "id": "8533cf03",
   "metadata": {},
   "source": [
    "## 1.1 Data Loading"
   ]
  },
  {
   "cell_type": "code",
   "execution_count": 4,
   "id": "8c77c7fe",
   "metadata": {},
   "outputs": [
    {
     "name": "stdout",
     "output_type": "stream",
     "text": [
      "TOTAL RUNTIME = 136 seconds\n"
     ]
    }
   ],
   "source": [
    "time_start = datetime.now()\n",
    "\n",
    "items = pd.read_csv('data/item.csv')\n",
    "\n",
    "time_end = datetime.now()\n",
    "print(f'TOTAL RUNTIME = {(time_end - time_start).seconds} seconds')"
   ]
  },
  {
   "cell_type": "code",
   "execution_count": 5,
   "id": "ac9ceba9",
   "metadata": {},
   "outputs": [
    {
     "data": {
      "text/plain": [
       "(51450316, 3)"
      ]
     },
     "execution_count": 5,
     "metadata": {},
     "output_type": "execute_result"
    }
   ],
   "source": [
    "items.shape"
   ]
  },
  {
   "cell_type": "markdown",
   "id": "75eb6f42",
   "metadata": {},
   "source": [
    "## 1.2 Data Manipulation"
   ]
  },
  {
   "cell_type": "code",
   "execution_count": 6,
   "id": "d124c789",
   "metadata": {},
   "outputs": [
    {
     "name": "stdout",
     "output_type": "stream",
     "text": [
      "TOTAL RUNTIME = 100 seconds\n"
     ]
    }
   ],
   "source": [
    "time_start = datetime.now()\n",
    "\n",
    "df = pd.DataFrame()\n",
    "df['X'] = np.random.randint(low=100, high=999, size=100000000)\n",
    "df['X_squared'] = df['X'].apply(lambda x: x**2)\n",
    "df['X_sqrt'] = df['X'].apply(lambda x: x**0.5)\n",
    "df['Mul'] = df['X_squared'] * df['X_sqrt']\n",
    "df['Div'] = df['X_squared'] / df['X_sqrt']\n",
    "df['Int_div'] = df['X_squared'] // df['X_sqrt']\n",
    "\n",
    "time_end = datetime.now()\n",
    "print(f'TOTAL RUNTIME = {(time_end - time_start).seconds} seconds')"
   ]
  },
  {
   "cell_type": "markdown",
   "id": "e7cd8f1d",
   "metadata": {},
   "source": [
    "## 1.3 Groupby"
   ]
  },
  {
   "cell_type": "code",
   "execution_count": 7,
   "id": "df958d75",
   "metadata": {},
   "outputs": [],
   "source": [
    "df = pd.DataFrame()\n",
    "df['X'] = np.random.randint(low=0, high=999, size=100000000)\n",
    "df['Y'] = np.random.randint(low=1, high=10, size=100000000)"
   ]
  },
  {
   "cell_type": "code",
   "execution_count": 8,
   "id": "47b84c7a",
   "metadata": {},
   "outputs": [
    {
     "name": "stdout",
     "output_type": "stream",
     "text": [
      "TOTAL RUNTIME = 10 seconds\n"
     ]
    }
   ],
   "source": [
    "time_start = datetime.now()\n",
    "\n",
    "df.groupby('Y').agg(np.mean)\n",
    "df.groupby('Y').agg(np.std)\n",
    "df.groupby('Y').agg(max)\n",
    "df.groupby('Y').agg('count')\n",
    "\n",
    "time_end = datetime.now()\n",
    "print(f'TOTAL RUNTIME = {(time_end - time_start).seconds} seconds')"
   ]
  },
  {
   "cell_type": "code",
   "execution_count": null,
   "id": "f504fc6a",
   "metadata": {},
   "outputs": [],
   "source": []
  },
  {
   "cell_type": "markdown",
   "id": "4a527305",
   "metadata": {},
   "source": [
    "## 1.4 Simple Query"
   ]
  },
  {
   "cell_type": "code",
   "execution_count": 9,
   "id": "9d962416",
   "metadata": {},
   "outputs": [],
   "source": [
    "from tqdm import tqdm"
   ]
  },
  {
   "cell_type": "code",
   "execution_count": 10,
   "id": "4e2ae247",
   "metadata": {},
   "outputs": [
    {
     "name": "stderr",
     "output_type": "stream",
     "text": [
      "100%|██████████| 200/200 [02:57<00:00,  1.12it/s]"
     ]
    },
    {
     "name": "stdout",
     "output_type": "stream",
     "text": [
      "TOTAL RUNTIME = 177 seconds\n"
     ]
    },
    {
     "name": "stderr",
     "output_type": "stream",
     "text": [
      "\n"
     ]
    }
   ],
   "source": [
    "time_start = datetime.now()\n",
    "\n",
    "for _ in tqdm(range(200)):\n",
    "    num = np.random.randint(low=0, high=999)\n",
    "    df.query('X == ' + str(num))\n",
    "\n",
    "time_end = datetime.now()\n",
    "print(f'TOTAL RUNTIME = {(time_end - time_start).seconds} seconds')"
   ]
  },
  {
   "cell_type": "code",
   "execution_count": null,
   "id": "9776abff",
   "metadata": {},
   "outputs": [],
   "source": []
  },
  {
   "cell_type": "markdown",
   "id": "5c104914-935b-45fa-a25a-4245990096c9",
   "metadata": {},
   "source": [
    "# 2. Numpy\n",
    "- Reference: https://gist.github.com/markus-beuckelmann/8bc25531b11158431a5b09a45abd6276"
   ]
  },
  {
   "cell_type": "code",
   "execution_count": 11,
   "id": "6d9bb787-7891-41b4-97c7-377fad8b1885",
   "metadata": {},
   "outputs": [
    {
     "name": "stdout",
     "output_type": "stream",
     "text": [
      "Dotted two 4096x4096 matrices in 2.70 s.\n",
      "Dotted two vectors of length 524288 in 0.33 ms.\n",
      "SVD of a 2048x1024 matrix in 0.84 s.\n",
      "Cholesky decomposition of a 2048x2048 matrix in 0.14 s.\n",
      "Eigendecomposition of a 2048x2048 matrix in 6.13 s.\n",
      "\n",
      "TOTAL RUNTIME = 77 seconds\n"
     ]
    }
   ],
   "source": [
    "from time import time\n",
    "# Let's take the randomness out of random numbers (for reproducibility)\n",
    "np.random.seed(0)\n",
    "\n",
    "\n",
    "\n",
    "size = 4096\n",
    "A, B = np.random.random((size, size)), np.random.random((size, size))\n",
    "C, D = np.random.random((size * 128,)), np.random.random((size * 128,))\n",
    "E = np.random.random((int(size / 2), int(size / 4)))\n",
    "F = np.random.random((int(size / 2), int(size / 2)))\n",
    "F = np.dot(F, F.T)\n",
    "G = np.random.random((int(size / 2), int(size / 2)))\n",
    "\n",
    "time_start = datetime.now()\n",
    "\n",
    "# Matrix multiplication\n",
    "N = 20\n",
    "t = time()\n",
    "for i in range(N):\n",
    "    np.dot(A, B)\n",
    "delta = time() - t\n",
    "print('Dotted two %dx%d matrices in %0.2f s.' % (size, size, delta / N))\n",
    "del A, B\n",
    "\n",
    "# Vector multiplication\n",
    "N = 5000\n",
    "t = time()\n",
    "for i in range(N):\n",
    "    np.dot(C, D)\n",
    "delta = time() - t\n",
    "print('Dotted two vectors of length %d in %0.2f ms.' % (size * 128, 1e3 * delta / N))\n",
    "del C, D\n",
    "\n",
    "# Singular Value Decomposition (SVD)\n",
    "N = 3\n",
    "t = time()\n",
    "for i in range(N):\n",
    "    np.linalg.svd(E, full_matrices = False)\n",
    "delta = time() - t\n",
    "print(\"SVD of a %dx%d matrix in %0.2f s.\" % (size / 2, size / 4, delta / N))\n",
    "del E\n",
    "\n",
    "# Cholesky Decomposition\n",
    "N = 3\n",
    "t = time()\n",
    "for i in range(N):\n",
    "    np.linalg.cholesky(F)\n",
    "delta = time() - t\n",
    "print(\"Cholesky decomposition of a %dx%d matrix in %0.2f s.\" % (size / 2, size / 2, delta / N))\n",
    "\n",
    "# Eigendecomposition\n",
    "t = time()\n",
    "for i in range(N):\n",
    "    np.linalg.eig(G)\n",
    "delta = time() - t\n",
    "print(\"Eigendecomposition of a %dx%d matrix in %0.2f s.\" % (size / 2, size / 2, delta / N))\n",
    "\n",
    "print('')\n",
    "\n",
    "time_end = datetime.now()\n",
    "print(f'TOTAL RUNTIME = {(time_end - time_start).seconds} seconds')"
   ]
  },
  {
   "cell_type": "code",
   "execution_count": null,
   "id": "79423452-ee6a-4179-b9bc-79fe6328285e",
   "metadata": {},
   "outputs": [],
   "source": []
  },
  {
   "cell_type": "code",
   "execution_count": null,
   "id": "047292ef-d81b-49a6-b04a-195e65a74054",
   "metadata": {},
   "outputs": [],
   "source": []
  },
  {
   "cell_type": "markdown",
   "id": "e51f7e6e-f7e4-4dd7-b70f-1b6967ccac9c",
   "metadata": {},
   "source": [
    "# 3. Scikit"
   ]
  },
  {
   "cell_type": "code",
   "execution_count": 12,
   "id": "613a049f",
   "metadata": {},
   "outputs": [
    {
     "name": "stdout",
     "output_type": "stream",
     "text": [
      "Dataset loaded, runtime = 0 seconds\n",
      "Train/test split, runtime = 0 seconds\n"
     ]
    }
   ],
   "source": [
    "from sklearn.tree import DecisionTreeClassifier\n",
    "from sklearn.model_selection import train_test_split, GridSearchCV\n",
    "from sklearn.metrics import accuracy_score, confusion_matrix\n",
    "\n",
    "time_start = datetime.now()\n",
    "\n",
    "# Dataset\n",
    "iris = pd.read_csv('https://gist.githubusercontent.com/curran/a08a1080b88344b0c8a7/raw/0e7a9b0a5d22642a06d3d5b9bcbad9890c8ee534/iris.csv')\n",
    "time_load = datetime.now()\n",
    "print(f'Dataset loaded, runtime = {(time_load - time_start).seconds} seconds')\n",
    "\n",
    "# Train/Test split\n",
    "X = iris.drop('species', axis=1)\n",
    "y = iris['species']\n",
    "X_train, X_test, y_train, y_test = train_test_split(X, y, test_size=0.25)\n",
    "time_split = datetime.now()\n",
    "print(f'Train/test split, runtime = {(time_split - time_start).seconds} seconds')"
   ]
  },
  {
   "cell_type": "markdown",
   "id": "68ffc656",
   "metadata": {},
   "source": [
    "## 3.1 Decision Tree & Grid Search"
   ]
  },
  {
   "cell_type": "code",
   "execution_count": 13,
   "id": "708bad6b",
   "metadata": {},
   "outputs": [],
   "source": [
    "from tqdm import tqdm"
   ]
  },
  {
   "cell_type": "code",
   "execution_count": 14,
   "id": "cd914e25",
   "metadata": {},
   "outputs": [
    {
     "name": "stderr",
     "output_type": "stream",
     "text": [
      "100%|██████████| 10000/10000 [00:14<00:00, 687.59it/s]"
     ]
    },
    {
     "name": "stdout",
     "output_type": "stream",
     "text": [
      "TOTAL RUNTIME = 14 seconds\n"
     ]
    },
    {
     "name": "stderr",
     "output_type": "stream",
     "text": [
      "\n"
     ]
    }
   ],
   "source": [
    "time_start = datetime.now()\n",
    "\n",
    "for _ in tqdm(range(10000)):\n",
    "    model = DecisionTreeClassifier()\n",
    "    model.fit(X_train, y_train)\n",
    "    \n",
    "time_end = datetime.now()\n",
    "print(f'TOTAL RUNTIME = {(time_end - time_start).seconds} seconds')"
   ]
  },
  {
   "cell_type": "code",
   "execution_count": 15,
   "id": "e8876cc7-7941-4f4a-9f33-125e8bc4dd81",
   "metadata": {},
   "outputs": [
    {
     "name": "stdout",
     "output_type": "stream",
     "text": [
      "Hyperparameter optimization, runtime = 92 seconds\n",
      "\n",
      "TOTAL RUNTIME = 92 seconds\n"
     ]
    }
   ],
   "source": [
    "time_start = datetime.now()\n",
    "\n",
    "# Hyperparameter tuning\n",
    "model = DecisionTreeClassifier()\n",
    "params = {\n",
    "    'criterion': ['gini', 'entropy'],\n",
    "    'splitter': ['best', 'random'],\n",
    "    'max_depth': [1, 5, 10, 50, 100, 250, 500, 1000],\n",
    "    'min_samples_split': [2, 5, 10, 15, 20],\n",
    "    'min_samples_leaf': [1, 2, 3, 4, 5],\n",
    "    'max_features': ['auto', 'sqrt', 'log2']\n",
    "}\n",
    "clf = GridSearchCV(\n",
    "    estimator=model, \n",
    "    param_grid=params, \n",
    "    cv=5\n",
    ")\n",
    "clf.fit(X_train, y_train)\n",
    "time_optim = datetime.now()\n",
    "print(f'Hyperparameter optimization, runtime = {(time_optim - time_start).seconds} seconds')\n",
    "\n",
    "best_model = DecisionTreeClassifier(**clf.best_params_)\n",
    "best_model.fit(X_train, y_train)\n",
    "\n",
    "time_end = datetime.now()\n",
    "print()\n",
    "print(f'TOTAL RUNTIME = {(time_end - time_start).seconds} seconds')"
   ]
  },
  {
   "cell_type": "markdown",
   "id": "9a4359c5",
   "metadata": {},
   "source": [
    "## 3.2 SVM & Grid Search"
   ]
  },
  {
   "cell_type": "code",
   "execution_count": 16,
   "id": "dad7b7e1-a98a-499e-9094-0322fb576e02",
   "metadata": {},
   "outputs": [
    {
     "name": "stdout",
     "output_type": "stream",
     "text": [
      "(30000, 25)\n"
     ]
    }
   ],
   "source": [
    "from sklearn.svm import SVC\n",
    "from sklearn.model_selection import GridSearchCV\n",
    "\n",
    "data = pd.read_csv('data/credit card.csv')#.head(10000)\n",
    "X = data.drop(columns = ['default.payment.next.month'])\n",
    "y = data['default.payment.next.month'].values\n",
    "print(data.shape)"
   ]
  },
  {
   "cell_type": "code",
   "execution_count": 17,
   "id": "e3c84e30",
   "metadata": {},
   "outputs": [
    {
     "name": "stdout",
     "output_type": "stream",
     "text": [
      "TOTAL RUNTIME = 35 seconds\n"
     ]
    }
   ],
   "source": [
    "time_start = datetime.now()\n",
    "\n",
    "svc = SVC(kernel = 'rbf')\n",
    "svc.fit(X, y)\n",
    "\n",
    "time_end = datetime.now()\n",
    "print(f'TOTAL RUNTIME = {(time_end - time_start).seconds} seconds')"
   ]
  },
  {
   "cell_type": "code",
   "execution_count": 18,
   "id": "68ca5a28",
   "metadata": {},
   "outputs": [
    {
     "name": "stdout",
     "output_type": "stream",
     "text": [
      "TOTAL RUNTIME = 1089 seconds\n"
     ]
    }
   ],
   "source": [
    "time_start = datetime.now()\n",
    "\n",
    "model = SVC(kernel = 'rbf')\n",
    "params = {\n",
    "    'C': [0.01, 1, 100]\n",
    "}\n",
    "clf = GridSearchCV(\n",
    "    estimator=model, \n",
    "    param_grid=params, \n",
    "    cv=5\n",
    ")\n",
    "clf.fit(X, y)\n",
    "\n",
    "best_model = SVC(**clf.best_params_)\n",
    "best_model.fit(X, y)\n",
    "\n",
    "time_end = datetime.now()\n",
    "print(f'TOTAL RUNTIME = {(time_end - time_start).seconds} seconds')"
   ]
  },
  {
   "cell_type": "code",
   "execution_count": null,
   "id": "3979e10b",
   "metadata": {},
   "outputs": [],
   "source": []
  },
  {
   "cell_type": "markdown",
   "id": "2785f98e",
   "metadata": {},
   "source": [
    "## 3.3 Muti-thread SkLearn"
   ]
  },
  {
   "cell_type": "code",
   "execution_count": 23,
   "id": "c1331e58",
   "metadata": {},
   "outputs": [
    {
     "name": "stdout",
     "output_type": "stream",
     "text": [
      "TOTAL RUNTIME = 73 seconds\n"
     ]
    }
   ],
   "source": [
    "from joblib import parallel_backend\n",
    "\n",
    "time_start = datetime.now()\n",
    "with parallel_backend('threading', n_jobs = 8):\n",
    "    model = SVC(kernel = 'rbf')\n",
    "    params = {\n",
    "        'C': [0.01, 1, 100]\n",
    "    }\n",
    "    clf = GridSearchCV(\n",
    "        estimator=model, \n",
    "        param_grid=params, \n",
    "        cv=5\n",
    "    )\n",
    "    clf.fit(X, y)\n",
    "\n",
    "    best_model = SVC(**clf.best_params_)\n",
    "    best_model.fit(X, y)\n",
    "\n",
    "time_end = datetime.now()\n",
    "print(f'TOTAL RUNTIME = {(time_end - time_start).seconds} seconds')"
   ]
  },
  {
   "cell_type": "code",
   "execution_count": 24,
   "id": "c2ce34b3",
   "metadata": {},
   "outputs": [
    {
     "name": "stdout",
     "output_type": "stream",
     "text": [
      "TOTAL RUNTIME = 64 seconds\n"
     ]
    }
   ],
   "source": [
    "from joblib import parallel_backend\n",
    "\n",
    "time_start = datetime.now()\n",
    "with parallel_backend('threading', n_jobs = 4):\n",
    "    model = SVC(kernel = 'rbf')\n",
    "    params = {\n",
    "        'C': [0.01, 1, 100]\n",
    "    }\n",
    "    clf = GridSearchCV(\n",
    "        estimator=model, \n",
    "        param_grid=params, \n",
    "        cv=5\n",
    "    )\n",
    "    clf.fit(X, y)\n",
    "\n",
    "    best_model = SVC(**clf.best_params_)\n",
    "    best_model.fit(X, y)\n",
    "\n",
    "time_end = datetime.now()\n",
    "print(f'TOTAL RUNTIME = {(time_end - time_start).seconds} seconds')"
   ]
  },
  {
   "cell_type": "markdown",
   "id": "dd33958c-f3a0-42fd-9d01-283b60fdafb2",
   "metadata": {},
   "source": [
    "# 4. Torch"
   ]
  },
  {
   "cell_type": "code",
   "execution_count": 19,
   "id": "0fde99d8-d456-49c5-aeb1-31161e64c51d",
   "metadata": {},
   "outputs": [],
   "source": [
    "import torch\n",
    "import torch.nn as nn\n",
    "from torch.autograd import Variable\n",
    "from tqdm import tqdm\n",
    "\n",
    "class MLP(nn.Module):\n",
    "    def __init__(self, input_size = 64, hidden_size = 128, output_size = 10):\n",
    "        super(MLP, self).__init__()\n",
    "        self.input_size = input_size\n",
    "        self.hidden_size = hidden_size\n",
    "        self.output_size = output_size\n",
    "        \n",
    "        self.fc1 = nn.Linear(input_size, hidden_size)\n",
    "        self.relu = nn.ReLU()\n",
    "        self.fc2 = nn.Linear(hidden_size, output_size)\n",
    "    \n",
    "    def forward(self, x):\n",
    "        x = self.relu(self.fc1(x))\n",
    "        x = self.fc2(x)\n",
    "        return x"
   ]
  },
  {
   "cell_type": "code",
   "execution_count": 20,
   "id": "b3121dd5-4939-48b2-bb64-f7ae392cba34",
   "metadata": {},
   "outputs": [],
   "source": [
    "mlp = MLP()\n",
    "X = torch.randint(1000, (10000, 64)).float()\n",
    "y = torch.randint(10, (10000,))\n",
    "\n",
    "lr = 0.001\n",
    "n_epoch = 20\n",
    "\n",
    "optimizer = torch.optim.Adam(mlp.parameters(), lr=lr)\n",
    "criterion = nn.CrossEntropyLoss()"
   ]
  },
  {
   "cell_type": "code",
   "execution_count": 21,
   "id": "2411824c-1a3f-4e97-9979-79d31a7eb06c",
   "metadata": {},
   "outputs": [
    {
     "name": "stderr",
     "output_type": "stream",
     "text": [
      "100%|██████████| 20/20 [01:36<00:00,  4.81s/it]"
     ]
    },
    {
     "name": "stdout",
     "output_type": "stream",
     "text": [
      "TOTAL RUNTIME = 96 seconds\n"
     ]
    },
    {
     "name": "stderr",
     "output_type": "stream",
     "text": [
      "\n"
     ]
    }
   ],
   "source": [
    "time_start = datetime.now()\n",
    "\n",
    "mlp.train()\n",
    "for epoch in tqdm(range(n_epoch)):\n",
    "    loss = 0\n",
    "    for i in range(10000):\n",
    "        mlp.zero_grad()\n",
    "        optimizer.zero_grad()\n",
    "        inp, target = X[[i]], y[[i]]\n",
    "        output = mlp(inp)\n",
    "        loss = criterion(output, target)\n",
    "        loss.backward()\n",
    "        optimizer.step()\n",
    "\n",
    "time_end = datetime.now()\n",
    "print(f'TOTAL RUNTIME = {(time_end - time_start).seconds} seconds')"
   ]
  },
  {
   "cell_type": "code",
   "execution_count": null,
   "id": "4fcdec2c",
   "metadata": {},
   "outputs": [],
   "source": []
  },
  {
   "cell_type": "code",
   "execution_count": null,
   "id": "8a4faa1e",
   "metadata": {},
   "outputs": [],
   "source": []
  }
 ],
 "metadata": {
  "kernelspec": {
   "display_name": "Python 3",
   "language": "python",
   "name": "python3"
  },
  "language_info": {
   "codemirror_mode": {
    "name": "ipython",
    "version": 3
   },
   "file_extension": ".py",
   "mimetype": "text/x-python",
   "name": "python",
   "nbconvert_exporter": "python",
   "pygments_lexer": "ipython3",
   "version": "3.6.13"
  }
 },
 "nbformat": 4,
 "nbformat_minor": 5
}
